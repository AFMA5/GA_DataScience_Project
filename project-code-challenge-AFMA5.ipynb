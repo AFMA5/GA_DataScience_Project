{
 "cells": [
  {
   "cell_type": "markdown",
   "metadata": {},
   "source": [
    "<img src=\"http://imgur.com/1ZcRyrc.png\" style=\"float: left; margin: 20px; height: 55px\">\n",
    "\n",
    "# Project 1: Python Coding Exercises\n",
    "\n",
    "_Authors: Joseph Nelson (DC) _\n",
    "\n",
    "---"
   ]
  },
  {
   "cell_type": "markdown",
   "metadata": {},
   "source": [
    "The following code challenges are drawn from common exercises used in technical interviews.\n",
    "\n",
    "Please note that there may be several ways to approach each challenge. If you get stuck, try mapping out your approach in pseudocode first. Finally, while solutions to problems like these may be found online, remember that if you copy/paste code that you can't explain, you'll be missing out on the point of the project. The only way to truly learn a new skill is through practice, trial, and error - we can only help you improve by understanding where you are having trouble."
   ]
  },
  {
   "cell_type": "markdown",
   "metadata": {},
   "source": [
    "### Challenge 1: Largest Palindrome\n",
    "A palindromic number reads the same both ways. For example, 1234321 is a palindrome. The largest palindrome made from the product of two two-digit numbers is 9009 = 91 × 99. Find the largest palindrome made from the product of two three-digit numbers. Afterward, write a brief explanation walking through your code's logic in markdown."
   ]
  },
  {
   "cell_type": "code",
   "execution_count": 1,
   "metadata": {},
   "outputs": [
    {
     "name": "stdout",
     "output_type": "stream",
     "text": [
      "906609\n"
     ]
    }
   ],
   "source": [
    "# To find largest palindrome made from the product of two three-digit numbers (ie. 100 - 999)\n",
    "\n",
    "n = 0                              # Assign variable n = 0 (n starts with 0)\n",
    "\n",
    "for a in range(999, 99, -1):       # We start the list no. from 999 and worked down the list from 999 to 100\n",
    "    for b in range(999, 99, -1):\n",
    "        x = a * b                  # x = multiplication of two 3-digit numbers from the list range\n",
    "        if x > n:                  # If value of x is bigger than n, do as stated below:\n",
    "            s = str(x)                 ## Change to string so that we could reverse the number in the next step\n",
    "            if s == s[::-1]:           ## Check whether it is a palindrome\n",
    "                n = x                       ### If it is a palindrome, assign value n same as x\n",
    "                \n",
    "print(n)                           # Display the largest palindrome made from the product of two three-digit numbers"
   ]
  },
  {
   "cell_type": "markdown",
   "metadata": {},
   "source": [
    "\n",
    "### Challenge 2: Summation of Primes\n",
    "The sum of the primes below 10 is 2 + 3 + 5 + 7 = 17. Find the sum of all the primes below 2,000. Afterward, write a brief explanation walking through your code's logic in markdown."
   ]
  },
  {
   "cell_type": "code",
   "execution_count": 2,
   "metadata": {
    "scrolled": true
   },
   "outputs": [],
   "source": [
    "def prime_numbers(numbers):\n",
    "    total = 0                                # Assign variable total = 0\n",
    "    for num in range(numbers):\n",
    "        if num > 1:                          # All prime numbers are greater than 1\n",
    "            for i in range(2, num):\n",
    "                if (num % i) == 0:           # Check if num is divisible by any other numbers apart from itself\n",
    "                    break\n",
    "            else:                            # If num can only be divided by itself, add num to sum up the total\n",
    "                total += num\n",
    "    return total                             # Return or display total value\n",
    "\n"
   ]
  },
  {
   "cell_type": "code",
   "execution_count": 3,
   "metadata": {},
   "outputs": [
    {
     "data": {
      "text/plain": [
       "277050"
      ]
     },
     "execution_count": 3,
     "metadata": {},
     "output_type": "execute_result"
    }
   ],
   "source": [
    "prime_numbers(2000)         # Insert value 2000 to show the sum of all the primes below 2,000"
   ]
  },
  {
   "cell_type": "markdown",
   "metadata": {},
   "source": [
    "### Challenge 3: Multiples of 3 and 5\n",
    "If we list all of the natural numbers below 10 that are multiples of 3 or 5, we get 3, 5, 6, and 9. The sum of these multiples is 23. Find the sum of all the multiples of 3 and 5 below 1,000. Afterward, write a brief explanation walking through your code's logic in markdown."
   ]
  },
  {
   "cell_type": "code",
   "execution_count": 4,
   "metadata": {},
   "outputs": [
    {
     "name": "stdout",
     "output_type": "stream",
     "text": [
      "233168\n"
     ]
    }
   ],
   "source": [
    "total = 0                               # Assign variable total = 0\n",
    "\n",
    "for num in range(1, 1000):              # List of numbers below 1000\n",
    "    if num%3 == 0 or num%5 == 0:        # Check whether num is divisible by 3 or 5\n",
    "        total += num                    # If the answer is Yes for the above code, add num to sum up the total\n",
    "print(total)                            # Display the total"
   ]
  },
  {
   "cell_type": "markdown",
   "metadata": {},
   "source": [
    "### Challenge 4: String Compressor\n",
    "Implement a method to perform basic string compression using the counts of repeated characters. (This is called run-length encoding.) For example, the string \"aabcccccaaa\" would become a2b1c5a3. If the “compressed” string would not become smaller than the original string, your method should return the original string. You can assume the string has only uppercase and lowercase letters (a–z). Specify whether your solution is case sensitive or case insensitive and what you would need to change to make it the other. Afterward, write a brief explanation walking through your code's logic in markdown."
   ]
  },
  {
   "cell_type": "code",
   "execution_count": 5,
   "metadata": {},
   "outputs": [],
   "source": [
    "def string_compression(input_string):\n",
    "    compressed_string = \"\"                             # Assign compressed_string to an empty value\n",
    "    count = 1                                          # Start counter 'count' at 1\n",
    "    \n",
    "    for i in range(len(input_string)-1):               # Loop through the length of input_string\n",
    "        if input_string[i] == input_string[i+1]:       # Check whether current string character is the same as the next string character\n",
    "            count += 1                                      ## If yes, add increament of 1 to the count\n",
    "        else:\n",
    "            compressed_string += input_string[i] + str(count)     ## If no, reset the count to 1\n",
    "            count = 1\n",
    "    compressed_string += input_string[i+1] + str(count)           # Need to change count type to string because integer & string cannot be concatenated\n",
    "\n",
    "    \n",
    "    #If the “compressed” string is bigger than the original string, return the original string.\n",
    "    if len(compressed_string) >= len(input_string):      \n",
    "        return input_string\n",
    "    else:\n",
    "        return compressed_string\n",
    "    \n",
    "# Note: This solution is case-sensitive\n",
    "            ## to make it case-insensitive, add .casefold() to input_string "
   ]
  },
  {
   "cell_type": "code",
   "execution_count": 6,
   "metadata": {},
   "outputs": [
    {
     "data": {
      "text/plain": [
       "'a2b1c5a3'"
      ]
     },
     "execution_count": 6,
     "metadata": {},
     "output_type": "execute_result"
    }
   ],
   "source": [
    "string_compression(\"aabcccccaaa\")"
   ]
  },
  {
   "cell_type": "code",
   "execution_count": null,
   "metadata": {},
   "outputs": [],
   "source": []
  },
  {
   "cell_type": "markdown",
   "metadata": {},
   "source": [
    "### *BONUS* Challenge: FizzBuzz\n",
    "Write a program that prints all of the numbers from 1 to 100. For multiples of 3, instead of the number, print \"Fizz;\" for multiples of 5, print \"Buzz.\" For numbers that are multiples of both 3 and 5, print \"FizzBuzz.\" Afterward, write a brief explanation walking through your code's logic in markdown."
   ]
  },
  {
   "cell_type": "code",
   "execution_count": 7,
   "metadata": {},
   "outputs": [
    {
     "name": "stdout",
     "output_type": "stream",
     "text": [
      "1\n",
      "2\n",
      "Fizz\n",
      "4\n",
      "Buzz\n",
      "Fizz\n",
      "7\n",
      "8\n",
      "Fizz\n",
      "Buzz\n",
      "11\n",
      "Fizz\n",
      "13\n",
      "14\n",
      "FizzBuzz\n",
      "16\n",
      "17\n",
      "Fizz\n",
      "19\n",
      "Buzz\n",
      "Fizz\n",
      "22\n",
      "23\n",
      "Fizz\n",
      "Buzz\n",
      "26\n",
      "Fizz\n",
      "28\n",
      "29\n",
      "FizzBuzz\n",
      "31\n",
      "32\n",
      "Fizz\n",
      "34\n",
      "Buzz\n",
      "Fizz\n",
      "37\n",
      "38\n",
      "Fizz\n",
      "Buzz\n",
      "41\n",
      "Fizz\n",
      "43\n",
      "44\n",
      "FizzBuzz\n",
      "46\n",
      "47\n",
      "Fizz\n",
      "49\n",
      "Buzz\n",
      "Fizz\n",
      "52\n",
      "53\n",
      "Fizz\n",
      "Buzz\n",
      "56\n",
      "Fizz\n",
      "58\n",
      "59\n",
      "FizzBuzz\n",
      "61\n",
      "62\n",
      "Fizz\n",
      "64\n",
      "Buzz\n",
      "Fizz\n",
      "67\n",
      "68\n",
      "Fizz\n",
      "Buzz\n",
      "71\n",
      "Fizz\n",
      "73\n",
      "74\n",
      "FizzBuzz\n",
      "76\n",
      "77\n",
      "Fizz\n",
      "79\n",
      "Buzz\n",
      "Fizz\n",
      "82\n",
      "83\n",
      "Fizz\n",
      "Buzz\n",
      "86\n",
      "Fizz\n",
      "88\n",
      "89\n",
      "FizzBuzz\n",
      "91\n",
      "92\n",
      "Fizz\n",
      "94\n",
      "Buzz\n",
      "Fizz\n",
      "97\n",
      "98\n",
      "Fizz\n",
      "Buzz\n"
     ]
    }
   ],
   "source": [
    "for num in range(1, 101):                # Loop through list of numbers from 1 to 100; num = number in the list\n",
    "    if num%3 == 0 and num%5 == 0:        # Check if num is divisible by both 3 and 5\n",
    "        print('FizzBuzz')                     ## If yes, display 'FizzBuzz'\n",
    "    elif num%3 == 0:                     # If no, check if num is divisible by 3\n",
    "        print('Fizz')                         ## If yes (is divisible by 3), display 'Fizz'\n",
    "    elif num%5 == 0:                     # If no, check if num is divisible by 5\n",
    "        print('Buzz')                          ## If yes (is divisible by 5), display 'Buzz'\n",
    "    else:                                # If num did not fulfill any of the condition stated above,\n",
    "        print(num)                              ## Display num"
   ]
  },
  {
   "cell_type": "code",
   "execution_count": null,
   "metadata": {},
   "outputs": [],
   "source": []
  }
 ],
 "metadata": {
  "anaconda-cloud": {},
  "kernelspec": {
   "display_name": "Python 3",
   "language": "python",
   "name": "python3"
  },
  "language_info": {
   "codemirror_mode": {
    "name": "ipython",
    "version": 3
   },
   "file_extension": ".py",
   "mimetype": "text/x-python",
   "name": "python",
   "nbconvert_exporter": "python",
   "pygments_lexer": "ipython3",
   "version": "3.8.8"
  }
 },
 "nbformat": 4,
 "nbformat_minor": 2
}
